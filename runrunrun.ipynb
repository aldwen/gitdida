{
 "cells": [
  {
   "cell_type": "code",
   "execution_count": 8,
   "metadata": {},
   "outputs": [],
   "source": [
    "from gitdida.log import get_logger\n",
    "logger = get_logger('jupyter')\n",
    "\n",
    "logger.info('test auto make file')\n"
   ]
  }
 ],
 "metadata": {
  "kernelspec": {
   "display_name": "gitdida-i1XbyIit-py3.12",
   "language": "python",
   "name": "python3"
  },
  "language_info": {
   "codemirror_mode": {
    "name": "ipython",
    "version": 3
   },
   "file_extension": ".py",
   "mimetype": "text/x-python",
   "name": "python",
   "nbconvert_exporter": "python",
   "pygments_lexer": "ipython3",
   "version": "3.12.1"
  }
 },
 "nbformat": 4,
 "nbformat_minor": 2
}
