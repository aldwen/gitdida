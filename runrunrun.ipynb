{
 "cells": [
  {
   "cell_type": "code",
   "execution_count": 1,
   "metadata": {},
   "outputs": [
    {
     "name": "stderr",
     "output_type": "stream",
     "text": [
      "2023-12-24T22:35:25.1703428525+0800 [INFO] jupyter - aaa in info\n"
     ]
    }
   ],
   "source": [
    "from gitdida.log import get_logger\n",
    "\n",
    "logger = get_logger('jupyter')\n",
    "logger.info('aaa in info')\n",
    "\n",
    "\n"
   ]
  },
  {
   "cell_type": "code",
   "execution_count": 3,
   "metadata": {},
   "outputs": [
    {
     "name": "stdout",
     "output_type": "stream",
     "text": [
      "settings.BASE_DIR：/home/wenwen/coding/pystudy/gitdida/src/gitdida\n",
      "SETTINGS_FILE_FOR_DYNACONF:[PosixPath('/home/wenwen/coding/pystudy/gitdida/src/gitdida/config/settings.toml'), PosixPath('/home/wenwen/coding/pystudy/gitdida/src/gitdida/config/.secrets.toml')]\n",
      "settings.log_path:bbb\n",
      "BASE_DIR\n",
      "ENVVAR_PREFIX_FOR_DYNACONF\n",
      "SETTINGS_FILE_FOR_DYNACONF\n",
      "RENAMED_VARS\n",
      "ROOT_PATH_FOR_DYNACONF\n",
      "ENVIRONMENTS_FOR_DYNACONF\n",
      "MAIN_ENV_FOR_DYNACONF\n",
      "LOWERCASE_READ_FOR_DYNACONF\n",
      "ENV_SWITCHER_FOR_DYNACONF\n",
      "ENV_FOR_DYNACONF\n",
      "FORCE_ENV_FOR_DYNACONF\n",
      "DEFAULT_ENV_FOR_DYNACONF\n",
      "IGNORE_UNKNOWN_ENVVARS_FOR_DYNACONF\n",
      "AUTO_CAST_FOR_DYNACONF\n",
      "ENCODING_FOR_DYNACONF\n",
      "MERGE_ENABLED_FOR_DYNACONF\n",
      "DOTTED_LOOKUP_FOR_DYNACONF\n",
      "NESTED_SEPARATOR_FOR_DYNACONF\n",
      "ENVVAR_FOR_DYNACONF\n",
      "REDIS_FOR_DYNACONF\n",
      "REDIS_ENABLED_FOR_DYNACONF\n",
      "VAULT_FOR_DYNACONF\n",
      "VAULT_ENABLED_FOR_DYNACONF\n",
      "VAULT_PATH_FOR_DYNACONF\n",
      "VAULT_MOUNT_POINT_FOR_DYNACONF\n",
      "VAULT_ROOT_TOKEN_FOR_DYNACONF\n",
      "VAULT_KV_VERSION_FOR_DYNACONF\n",
      "VAULT_AUTH_WITH_IAM_FOR_DYNACONF\n",
      "VAULT_AUTH_ROLE_FOR_DYNACONF\n",
      "VAULT_ROLE_ID_FOR_DYNACONF\n",
      "VAULT_SECRET_ID_FOR_DYNACONF\n",
      "VAULT_USERNAME_FOR_DYNACONF\n",
      "VAULT_PASSWORD_FOR_DYNACONF\n",
      "CORE_LOADERS_FOR_DYNACONF\n",
      "LOADERS_FOR_DYNACONF\n",
      "SILENT_ERRORS_FOR_DYNACONF\n",
      "FRESH_VARS_FOR_DYNACONF\n",
      "DOTENV_PATH_FOR_DYNACONF\n",
      "DOTENV_VERBOSE_FOR_DYNACONF\n",
      "DOTENV_OVERRIDE_FOR_DYNACONF\n",
      "INSTANCE_FOR_DYNACONF\n",
      "YAML_LOADER_FOR_DYNACONF\n",
      "COMMENTJSON_ENABLED_FOR_DYNACONF\n",
      "SECRETS_FOR_DYNACONF\n",
      "INCLUDES_FOR_DYNACONF\n",
      "PRELOAD_FOR_DYNACONF\n",
      "SKIP_FILES_FOR_DYNACONF\n",
      "APPLY_DEFAULT_ON_NONE_FOR_DYNACONF\n",
      "VALIDATE_ON_UPDATE_FOR_DYNACONF\n",
      "SYSENV_FALLBACK_FOR_DYNACONF\n",
      "DYNACONF_NAMESPACE\n",
      "NAMESPACE_FOR_DYNACONF\n",
      "DYNACONF_SETTINGS_MODULE\n",
      "DYNACONF_SETTINGS\n",
      "SETTINGS_MODULE\n",
      "SETTINGS_MODULE_FOR_DYNACONF\n",
      "PROJECT_ROOT\n",
      "PROJECT_ROOT_FOR_DYNACONF\n",
      "DYNACONF_SILENT_ERRORS\n",
      "DYNACONF_ALWAYS_FRESH_VARS\n",
      "BASE_NAMESPACE_FOR_DYNACONF\n",
      "GLOBAL_ENV_FOR_DYNACONF\n",
      "LOG_PATH\n",
      "NEWA\n"
     ]
    }
   ],
   "source": [
    "from gitdida.config import settings\n",
    "\n",
    "print(f\"settings.BASE_DIR：{settings.BASE_DIR}\")\n",
    "print(f\"SETTINGS_FILE_FOR_DYNACONF:{settings.SETTINGS_FILE_FOR_DYNACONF}\")\n",
    "print(f\"settings.log_path:{settings.newa}\")\n",
    "\n",
    "for item in settings:\n",
    "    print(item)\n",
    "    \n",
    "# print(settings.log_path)\n",
    "# print(settings.aaa)"
   ]
  }
 ],
 "metadata": {
  "kernelspec": {
   "display_name": "gitdida-i1XbyIit-py3.12",
   "language": "python",
   "name": "python3"
  },
  "language_info": {
   "codemirror_mode": {
    "name": "ipython",
    "version": 3
   },
   "file_extension": ".py",
   "mimetype": "text/x-python",
   "name": "python",
   "nbconvert_exporter": "python",
   "pygments_lexer": "ipython3",
   "version": "3.12.1"
  }
 },
 "nbformat": 4,
 "nbformat_minor": 2
}
