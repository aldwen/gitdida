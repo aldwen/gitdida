{
 "cells": [
  {
   "cell_type": "code",
   "execution_count": 5,
   "metadata": {},
   "outputs": [
    {
     "name": "stderr",
     "output_type": "stream",
     "text": [
      "2023-12-25 00:56:31,802 [INFO] Jupyter - do not hurt 10\n"
     ]
    }
   ],
   "source": [
    "import logging\n",
    "from gitdida.log import get_logger\n",
    "\n",
    "logger = get_logger('Jupyter')\n",
    "logger.info('do not hurt 10')\n",
    "# for item in logging.getLogger('').handlers:\n",
    "#     print(item)"
   ]
  },
  {
   "cell_type": "code",
   "execution_count": 3,
   "metadata": {},
   "outputs": [
    {
     "name": "stdout",
     "output_type": "stream",
     "text": [
      "settings.BASE_DIR：/home/wenwen/coding/pystudy/gitdida/src/gitdida\n",
      "SETTINGS_FILE_FOR_DYNACONF:[PosixPath('/home/wenwen/coding/pystudy/gitdida/src/gitdida/config/settings.toml'), PosixPath('/home/wenwen/coding/pystudy/gitdida/src/gitdida/config/.secrets.toml')]\n",
      "settings.username:7362677@qq.com\n",
      "settings.password:didiyao\n"
     ]
    }
   ],
   "source": [
    "from gitdida.config import settings\n",
    "\n",
    "print(f\"settings.BASE_DIR：{settings.BASE_DIR}\")\n",
    "print(f\"SETTINGS_FILE_FOR_DYNACONF:{settings.SETTINGS_FILE_FOR_DYNACONF}\")\n",
    "print(f\"settings.username:{settings.username}\")\n",
    "print(f\"settings.password:{settings.password}\")\n",
    "# for item in settings:\n",
    "#     print(item)\n",
    "    \n",
    "# print(settings.log_path)\n",
    "# print(settings.aaa)"
   ]
  },
  {
   "cell_type": "code",
   "execution_count": 4,
   "metadata": {},
   "outputs": [],
   "source": [
    "import logging\n",
    "\n",
    "def clear_all_loggers():\n",
    "    for logger_name in list(logging.Logger.manager.loggerDict.keys()):\n",
    "        logger = logging.getLogger(logger_name)\n",
    "        logger.handlers = []  # 移除所有处理器\n",
    "        logger.propagate = True  # 重新启用消息传递\n",
    "\n",
    "# 调用清除函数\n",
    "clear_all_loggers()"
   ]
  },
  {
   "cell_type": "code",
   "execution_count": 8,
   "metadata": {},
   "outputs": [],
   "source": [
    "from dida365api.api import dida365\n",
    "from dida365api.utils.file_util import get_user_password\n",
    "get_user_password()\n",
    "aa = dida365.Dida365()"
   ]
  }
 ],
 "metadata": {
  "kernelspec": {
   "display_name": "gitdida-i1XbyIit-py3.12",
   "language": "python",
   "name": "python3"
  },
  "language_info": {
   "codemirror_mode": {
    "name": "ipython",
    "version": 3
   },
   "file_extension": ".py",
   "mimetype": "text/x-python",
   "name": "python",
   "nbconvert_exporter": "python",
   "pygments_lexer": "ipython3",
   "version": "3.12.1"
  }
 },
 "nbformat": 4,
 "nbformat_minor": 2
}
